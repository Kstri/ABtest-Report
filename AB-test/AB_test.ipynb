{
 "cells": [
  {
   "cell_type": "code",
   "execution_count": 62,
   "metadata": {},
   "outputs": [],
   "source": [
    "import pandas as pd\n",
    "import numpy as np\n",
    "import matplotlib.pyplot as plt\n",
    "import statsmodels.stats.weightstats as sw"
   ]
  },
  {
   "cell_type": "code",
   "execution_count": 30,
   "metadata": {},
   "outputs": [
    {
     "data": {
      "text/html": [
       "<div>\n",
       "<style scoped>\n",
       "    .dataframe tbody tr th:only-of-type {\n",
       "        vertical-align: middle;\n",
       "    }\n",
       "\n",
       "    .dataframe tbody tr th {\n",
       "        vertical-align: top;\n",
       "    }\n",
       "\n",
       "    .dataframe thead th {\n",
       "        text-align: right;\n",
       "    }\n",
       "</style>\n",
       "<table border=\"1\" class=\"dataframe\">\n",
       "  <thead>\n",
       "    <tr style=\"text-align: right;\">\n",
       "      <th></th>\n",
       "      <th>Impression</th>\n",
       "      <th>Click</th>\n",
       "      <th>Purchase</th>\n",
       "      <th>Earning</th>\n",
       "    </tr>\n",
       "  </thead>\n",
       "  <tbody>\n",
       "    <tr>\n",
       "      <th>0</th>\n",
       "      <td>82529.459271</td>\n",
       "      <td>6090.077317</td>\n",
       "      <td>665.211255</td>\n",
       "      <td>2311.277143</td>\n",
       "    </tr>\n",
       "    <tr>\n",
       "      <th>1</th>\n",
       "      <td>98050.451926</td>\n",
       "      <td>3382.861786</td>\n",
       "      <td>315.084895</td>\n",
       "      <td>1742.806855</td>\n",
       "    </tr>\n",
       "    <tr>\n",
       "      <th>2</th>\n",
       "      <td>82696.023549</td>\n",
       "      <td>4167.965750</td>\n",
       "      <td>458.083738</td>\n",
       "      <td>1797.827447</td>\n",
       "    </tr>\n",
       "    <tr>\n",
       "      <th>3</th>\n",
       "      <td>109914.400398</td>\n",
       "      <td>4910.882240</td>\n",
       "      <td>487.090773</td>\n",
       "      <td>1696.229178</td>\n",
       "    </tr>\n",
       "    <tr>\n",
       "      <th>4</th>\n",
       "      <td>108457.762630</td>\n",
       "      <td>5987.655811</td>\n",
       "      <td>441.034050</td>\n",
       "      <td>1543.720179</td>\n",
       "    </tr>\n",
       "  </tbody>\n",
       "</table>\n",
       "</div>"
      ],
      "text/plain": [
       "      Impression        Click    Purchase      Earning\n",
       "0   82529.459271  6090.077317  665.211255  2311.277143\n",
       "1   98050.451926  3382.861786  315.084895  1742.806855\n",
       "2   82696.023549  4167.965750  458.083738  1797.827447\n",
       "3  109914.400398  4910.882240  487.090773  1696.229178\n",
       "4  108457.762630  5987.655811  441.034050  1543.720179"
      ]
     },
     "execution_count": 30,
     "metadata": {},
     "output_type": "execute_result"
    }
   ],
   "source": [
    "## read data\n",
    "control_Group=pd.read_excel('ab_testing.xlsx',sheet_name='Control Group')\n",
    "test_Group=pd.read_excel('ab_testing.xlsx',sheet_name='Test Group')\n",
    "control_Group.head()"
   ]
  },
  {
   "cell_type": "markdown",
   "metadata": {},
   "source": [
    "数据集包含两个40*4的dataframe,分别为控制组和对照组。每组四个变量为，网页流量，点击数，购买数，和消费总金额。由于数据量=40>30，所以认为是足够大的数据集，因此可以用z分布近似t分布。"
   ]
  },
  {
   "cell_type": "code",
   "execution_count": 52,
   "metadata": {},
   "outputs": [],
   "source": [
    "test_Group['Clickrate']=test_Group['Click']/test_Group['Impression']*100\n",
    "test_Group['Purchaserate']=test_Group['Purchase']/test_Group['Impression']*100\n",
    "test_Group['Earning_per_impression']=test_Group['Earning']/test_Group['Impression']\n",
    "control_Group['Clickrate']=control_Group['Click']/control_Group['Impression']*100\n",
    "control_Group['Purchaserate']=control_Group['Purchase']/control_Group['Impression']*100\n",
    "control_Group['Earning_per_impression']=control_Group['Earning']/control_Group['Impression']\n"
   ]
  },
  {
   "cell_type": "markdown",
   "metadata": {},
   "source": [
    "接下来通过画柱状图对整个数据集有一个大致了解,我们可以发现，测试集点击率，购买率都相比于对照集低，但是收入高。"
   ]
  },
  {
   "cell_type": "code",
   "execution_count": 46,
   "metadata": {},
   "outputs": [
    {
     "data": {
      "image/png": "[encoded data removed]",
      "text/plain": [
       "<Figure size 432x288 with 1 Axes>"
      ]
     },
     "metadata": {
      "needs_background": "light"
     },
     "output_type": "display_data"
    }
   ],
   "source": [
    "plt.hist(test_Group['Clickrate'],bins=5,alpha=0.5,label='test group')\n",
    "plt.hist(control_Group['Clickrate'],bins=10,alpha=0.5,label='control group')\n",
    "plt.title('Clickrate')\n",
    "plt.legend()\n",
    "plt.show()"
   ]
  },
  {
   "cell_type": "code",
   "execution_count": 51,
   "metadata": {},
   "outputs": [
    {
     "data": {
      "image/png": "[encoded data removed]",
      "text/plain": [
       "<Figure size 432x288 with 1 Axes>"
      ]
     },
     "metadata": {
      "needs_background": "light"
     },
     "output_type": "display_data"
    }
   ],
   "source": [
    "plt.hist(test_Group['Purchaserate'],bins=8,alpha=0.5,label='test group')\n",
    "plt.hist(control_Group['Purchaserate'],bins=8,alpha=0.5,label='control group')\n",
    "plt.title('Purchaserate')\n",
    "plt.legend()\n",
    "plt.show()"
   ]
  },
  {
   "cell_type": "code",
   "execution_count": 57,
   "metadata": {},
   "outputs": [
    {
     "data": {
      "image/png": "[encoded data removed]",
      "text/plain": [
       "<Figure size 432x288 with 1 Axes>"
      ]
     },
     "metadata": {
      "needs_background": "light"
     },
     "output_type": "display_data"
    }
   ],
   "source": [
    "plt.hist(test_Group['Earning_per_impression'],bins=8,alpha=0.5,label='test group')\n",
    "plt.hist(control_Group['Earning_per_impression'],bins=8,alpha=0.5,label='control group')\n",
    "plt.title('Earning_per_impression')\n",
    "plt.legend()\n",
    "plt.show()"
   ]
  },
  {
   "cell_type": "code",
   "execution_count": 79,
   "metadata": {},
   "outputs": [
    {
     "name": "stdout",
     "output_type": "stream",
     "text": [
      "p-value<0.05, so we reject null hytheposis\n"
     ]
    }
   ],
   "source": [
    "diff=np.mean(test_Group['Clickrate'])-np.mean(control_Group['Clickrate'])\n",
    "z,pvalue=sw.ztest(test_Group['Clickrate'],control_Group['Clickrate'],alternative='smaller')\n",
    "if pvalue<0.05:\n",
    "    print('p-value<0.05, so we reject null hytheposis')\n",
    "else:\n",
    "    print('p-value>=0.05, so we fail to reject null hytheposis')"
   ]
  },
  {
   "cell_type": "code",
   "execution_count": 80,
   "metadata": {},
   "outputs": [
    {
     "name": "stdout",
     "output_type": "stream",
     "text": [
      "p-value<0.05, so we reject null hytheposis\n"
     ]
    }
   ],
   "source": [
    "diff=np.mean(test_Group['Purchaserate'])-np.mean(control_Group['Purchaserate'])\n",
    "z,pvalue=sw.ztest(test_Group['Purchaserate'],control_Group['Purchaserate'],alternative='smaller')\n",
    "if pvalue<0.05:\n",
    "    print('p-value<0.05, so we reject null hytheposis')\n",
    "else:\n",
    "    print('p-value>=0.05, so we fail to reject null hytheposis')"
   ]
  },
  {
   "cell_type": "code",
   "execution_count": 81,
   "metadata": {},
   "outputs": [
    {
     "name": "stdout",
     "output_type": "stream",
     "text": [
      "p-value<0.05, so we reject null hytheposis\n"
     ]
    }
   ],
   "source": [
    "diff=np.mean(test_Group['Earning_per_impression'])-np.mean(control_Group['Earning_per_impression'])\n",
    "z,pvalue=sw.ztest(test_Group['Earning_per_impression'],control_Group['Earning_per_impression'],alternative='larger')\n",
    "if pvalue<0.05:\n",
    "    print('p-value<0.05, so we reject null hytheposis')\n",
    "else:\n",
    "    print('p-value>=0.05, so we fail to reject null hytheposis')"
   ]
  },
  {
   "cell_type": "markdown",
   "metadata": {},
   "source": [
    "经过单边测试，三个零假设均被拒绝。\n",
    "\n",
    "虽然统计学意义上我们推翻的零假设，但是我们并不能说这具有实际或者商业上的价值，因此我们还要计算两组的平均收入并比较"
   ]
  },
  {
   "cell_type": "code",
   "execution_count": 84,
   "metadata": {},
   "outputs": [
    {
     "name": "stdout",
     "output_type": "stream",
     "text": [
      "The earning in test group is 8.99% lager than that in control group \n"
     ]
    }
   ],
   "source": [
    "diff=np.mean(test_Group['Earning_per_impression'])-np.mean(control_Group['Earning_per_impression'])\n",
    "per=diff/np.mean(test_Group['Earning_per_impression'])*100\n",
    "print('The earning in test group is '+str(round(per,2))+'%'+' lager than that in control group ')"
   ]
  }
 ],
 "metadata": {
  "kernelspec": {
   "display_name": "Python 3.10.6 64-bit (windows store)",
   "language": "python",
   "name": "python3"
  },
  "language_info": {
   "codemirror_mode": {
    "name": "ipython",
    "version": 3
   },
   "file_extension": ".py",
   "mimetype": "text/x-python",
   "name": "python",
   "nbconvert_exporter": "python",
   "pygments_lexer": "ipython3",
   "version": "3.10.6"
  },
  "orig_nbformat": 4,
  "vscode": {
   "interpreter": {
    "hash": "fb68bc62ab67e570a217e352e738faf424de7083fe18373562bee45d9221c605"
   }
  }
 },
 "nbformat": 4,
 "nbformat_minor": 2
}
